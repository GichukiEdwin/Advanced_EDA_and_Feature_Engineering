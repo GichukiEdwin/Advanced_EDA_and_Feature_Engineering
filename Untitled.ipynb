{
 "cells": [
  {
   "cell_type": "code",
   "execution_count": 6,
   "id": "ab4b9703",
   "metadata": {},
   "outputs": [],
   "source": [
    "from bs4 import BeautifulSoup\n",
    "import requests\n",
    "import time"
   ]
  },
  {
   "cell_type": "code",
   "execution_count": 5,
   "id": "523b58e5",
   "metadata": {},
   "outputs": [
    {
     "name": "stdout",
     "output_type": "stream",
     "text": [
      "Enter skills that you are not familiar with\n",
      "Filtering out sql\n",
      "Company name: ZoximaSolutionsPvt.Ltd.\n",
      "Required skills: reports\n",
      "DataAnalysts\n",
      "MySQL\n",
      "Job description: https://www.timesjobs.com/job-detail/data-analysts-zoxima-solutions-pvt-ltd-3-to-8-yrs-jobid-4Rbxa8RcNpVzpSvf__PLUS__uAgZw==&source=srp\n",
      "\n",
      "Company name: VeevaSystems\n",
      "Required skills: interpersonalskills\n",
      "DataAnalyst\n",
      "communication\n",
      "Job description: https://www.timesjobs.com/job-detail/data-analyst-veeva-systems-germany-0-to-3-yrs-jobid-6__PLUS__hQJFT0zxtzpSvf__PLUS__uAgZw==&source=srp\n",
      "\n",
      "Company name: AnalyticsVidhya\n",
      "Required skills: visualization\n",
      "sas\n",
      "spotfire\n",
      "dashboards\n",
      "dataanalyst\n",
      "alteryx\n",
      "softwarepackages\n",
      "Job description: https://www.timesjobs.com/job-detail/data-analyst-analytics-vidhya-chennai-4-to-8-yrs-jobid-Hr7xBIVyjGBzpSvf__PLUS__uAgZw==&source=srp\n",
      "\n"
     ]
    }
   ],
   "source": [
    "print('Enter skills that you are not familiar with')\n",
    "unfamiliar_skill=input('>')\n",
    "print(f'Filtering out {unfamiliar_skill}')\n",
    "\n",
    "def find_jobs():\n",
    "      html_text=requests.get('https://www.timesjobs.com/candidate/job-search.html?searchType=personalizedSearch&from=submit&searchTextSrc=as&searchTextText=%22Data+Analyst%22&txtKeywords=%22Data+Analyst%22&txtLocation=').text\n",
    "\n",
    "      soup=BeautifulSoup(html_text,'lxml')\n",
    "      jobs=soup.find_all('li',class_='clearfix job-bx wht-shd-bx')\n",
    "      for index,job in enumerate(jobs):\n",
    "            published_date=job.find('span',class_='sim-posted').span.text\n",
    "            if '5 days' in published_date:\n",
    "                  company_name=job.find('h3',class_='joblist-comp-name').text.replace(' ','')\n",
    "                  skills=job.find('span',class_='srp-skills').text.replace(' ','')\n",
    "                  job_description=job.header.h2.a['href']\n",
    "                  if unfamiliar_skill not in skills:\n",
    "                        with open(f'jobs/{index}.txt','w') as f:\n",
    "                              f.write(f'Company name: {company_name.strip()} \\n')\n",
    "                              f.write(f'Required skills: {skills.strip()}\\n')\n",
    "                              f.write(f'Job description: {job_description.strip()}')\n",
    "                        print(f'File saved: {index}')\n",
    "\n",
    "if __name__ == '__main__':\n",
    "      while True:\n",
    "            find_jobs()\n",
    "            time_wait=10\n",
    "            print(f'Waiting {time_wait} minutes...')\n",
    "            time.sleep(time_wait*60)"
   ]
  },
  {
   "cell_type": "code",
   "execution_count": null,
   "id": "93e85920",
   "metadata": {},
   "outputs": [],
   "source": []
  }
 ],
 "metadata": {
  "kernelspec": {
   "display_name": "Python 3 (ipykernel)",
   "language": "python",
   "name": "python3"
  },
  "language_info": {
   "codemirror_mode": {
    "name": "ipython",
    "version": 3
   },
   "file_extension": ".py",
   "mimetype": "text/x-python",
   "name": "python",
   "nbconvert_exporter": "python",
   "pygments_lexer": "ipython3",
   "version": "3.12.4"
  }
 },
 "nbformat": 4,
 "nbformat_minor": 5
}
