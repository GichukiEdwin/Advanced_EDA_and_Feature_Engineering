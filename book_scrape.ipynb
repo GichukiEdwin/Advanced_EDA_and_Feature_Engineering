{
 "cells": [
  {
   "cell_type": "code",
   "execution_count": 41,
   "id": "527d348c-0914-4f75-b606-5e24d408476d",
   "metadata": {},
   "outputs": [],
   "source": [
    "from bs4 import BeautifulSoup\n",
    "import requests\n",
    "import pandas as pd"
   ]
  },
  {
   "cell_type": "code",
   "execution_count": 39,
   "id": "dd0f1196-4c40-46f7-afa3-3ea8b1e7bd7c",
   "metadata": {},
   "outputs": [],
   "source": [
    "books=[]\n",
    "for i in range(1,51):\n",
    "    url=f'https://books.toscrape.com/catalogue/page-{i}.html'\n",
    "    response=requests.get(url)\n",
    "    response=response.content\n",
    "    soup=BeautifulSoup(response,'lxml')\n",
    "    ol=soup.find('ol')\n",
    "    articles=ol.find_all('article',class_='product_pod')\n",
    "    for article in articles:\n",
    "        image=article.find('img')\n",
    "        title=image.attrs['alt']\n",
    "        star=article.find('p')\n",
    "        star=star['class'][1]\n",
    "        price=article.find('p',class_='price_color').text\n",
    "        price=float(price[1:])\n",
    "        books.append([title,star,price])"
   ]
  },
  {
   "cell_type": "code",
   "execution_count": 42,
   "id": "0465d241-b39d-4b58-bd5d-d41cdef1db97",
   "metadata": {},
   "outputs": [],
   "source": [
    "df=pd.DataFrame(books,columns=['Title','Star rating','Price'])"
   ]
  },
  {
   "cell_type": "code",
   "execution_count": 43,
   "id": "86971d53-c694-4a6f-8e9c-e2600a2e7603",
   "metadata": {},
   "outputs": [
    {
     "data": {
      "text/html": [
       "<div>\n",
       "<style scoped>\n",
       "    .dataframe tbody tr th:only-of-type {\n",
       "        vertical-align: middle;\n",
       "    }\n",
       "\n",
       "    .dataframe tbody tr th {\n",
       "        vertical-align: top;\n",
       "    }\n",
       "\n",
       "    .dataframe thead th {\n",
       "        text-align: right;\n",
       "    }\n",
       "</style>\n",
       "<table border=\"1\" class=\"dataframe\">\n",
       "  <thead>\n",
       "    <tr style=\"text-align: right;\">\n",
       "      <th></th>\n",
       "      <th>Title</th>\n",
       "      <th>Star rating</th>\n",
       "      <th>Price</th>\n",
       "    </tr>\n",
       "  </thead>\n",
       "  <tbody>\n",
       "    <tr>\n",
       "      <th>0</th>\n",
       "      <td>A Light in the Attic</td>\n",
       "      <td>Three</td>\n",
       "      <td>51.77</td>\n",
       "    </tr>\n",
       "    <tr>\n",
       "      <th>1</th>\n",
       "      <td>Tipping the Velvet</td>\n",
       "      <td>One</td>\n",
       "      <td>53.74</td>\n",
       "    </tr>\n",
       "    <tr>\n",
       "      <th>2</th>\n",
       "      <td>Soumission</td>\n",
       "      <td>One</td>\n",
       "      <td>50.10</td>\n",
       "    </tr>\n",
       "    <tr>\n",
       "      <th>3</th>\n",
       "      <td>Sharp Objects</td>\n",
       "      <td>Four</td>\n",
       "      <td>47.82</td>\n",
       "    </tr>\n",
       "    <tr>\n",
       "      <th>4</th>\n",
       "      <td>Sapiens: A Brief History of Humankind</td>\n",
       "      <td>Five</td>\n",
       "      <td>54.23</td>\n",
       "    </tr>\n",
       "  </tbody>\n",
       "</table>\n",
       "</div>"
      ],
      "text/plain": [
       "                                   Title Star rating  Price\n",
       "0                   A Light in the Attic       Three  51.77\n",
       "1                     Tipping the Velvet         One  53.74\n",
       "2                             Soumission         One  50.10\n",
       "3                          Sharp Objects        Four  47.82\n",
       "4  Sapiens: A Brief History of Humankind        Five  54.23"
      ]
     },
     "execution_count": 43,
     "metadata": {},
     "output_type": "execute_result"
    }
   ],
   "source": [
    "df.head()"
   ]
  },
  {
   "cell_type": "code",
   "execution_count": 44,
   "id": "783cadd8-bac9-4755-ae5a-ed90da5dda59",
   "metadata": {},
   "outputs": [
    {
     "data": {
      "text/plain": [
       "(1000, 3)"
      ]
     },
     "execution_count": 44,
     "metadata": {},
     "output_type": "execute_result"
    }
   ],
   "source": [
    "df.shape"
   ]
  },
  {
   "cell_type": "code",
   "execution_count": 45,
   "id": "f562714a-f868-47e2-8305-9a981f4d75b2",
   "metadata": {},
   "outputs": [],
   "source": [
    "df.to_csv('books.csv')"
   ]
  },
  {
   "cell_type": "code",
   "execution_count": null,
   "id": "52afd88e-f464-4f56-aa8d-1877ab5abec6",
   "metadata": {},
   "outputs": [],
   "source": []
  }
 ],
 "metadata": {
  "kernelspec": {
   "display_name": "Python 3 (ipykernel)",
   "language": "python",
   "name": "python3"
  },
  "language_info": {
   "codemirror_mode": {
    "name": "ipython",
    "version": 3
   },
   "file_extension": ".py",
   "mimetype": "text/x-python",
   "name": "python",
   "nbconvert_exporter": "python",
   "pygments_lexer": "ipython3",
   "version": "3.12.4"
  }
 },
 "nbformat": 4,
 "nbformat_minor": 5
}
