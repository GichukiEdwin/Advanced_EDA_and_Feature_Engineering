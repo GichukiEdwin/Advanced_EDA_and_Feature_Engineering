


import pandas as pd
import numpy as np
import matplotlib.pyplot as plt
import seaborn as sns


df=pd.read_csv('data/weight-height.csv')
df.head()


df['Weight'].describe()


sns.boxplot(df['Weight'])





q1=df['Weight'].quantile(0.25)
q3=df['Weight'].quantile(0.75)
iqr=q3-q1

lower_bound=q1-1.5*iqr
upper_bound=q3+1.5*iqr
df1=df[(df['Weight']<lower_bound)|(df['Weight']>upper_bound)]
df1.shape


df1.head()





df2=df[(df['Weight']>lower_bound)&(df['Weight']<upper_bound)]
df2.shape


df.shape[0]-df2.shape[0]


df2['Weight'].describe()


sns.boxplot(df2['Weight'])


sns.histplot(df2['Weight'],kde=True)





weight_mean=df2['Weight'].mean()
weight_std=df2['Weight'].std()

min_threshold=weight_mean-3*weight_std
max_threshold=weight_mean+3*weight_std
df3=df2[(df2['Weight']<min_threshold)|(df2['Weight']>max_threshold)]
df3.head()


df.shape[0]-df3.shape[0]


df3.head()





df4=df2[(df2['Weight']>min_threshold)&(df2['Weight']<max_threshold)]
df4.shape[0]


df4.head()





df.shape[0]-df4.shape[0]


df4['Weight'].describe()


sns.boxplot(df4['Weight'])


sns.histplot(df4['Weight'],kde=True)





z_score=(df2['Weight']-df2['Weight'].mean())/df2['Weight'].std()
std_weight=df['Weight'].std()
df5=df2.copy()
df5['z_score']=z_score
df5.head()


# outlier detection
df6=df5[(df5['z_score']<-3)|(df5['z_score']>3)]
df6.shape[0]



# number of rows with no outliers
df.shape[0]-df6.shape[0]


df6.head()





df7=df5[(df5['z_score']>-3)&(df5['z_score']<3)]
df7.shape[0]


sns.boxplot(df7['Weight'])


sns.histplot(df7['Weight'],kde=True)



