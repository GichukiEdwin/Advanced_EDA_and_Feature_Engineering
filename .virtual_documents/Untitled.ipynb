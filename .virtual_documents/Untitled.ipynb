from bs4 import BeautifulSoup
import requests
import time


print('Enter skills that you are not familiar with')
unfamiliar_skill=input('>')
print(f'Filtering out {unfamiliar_skill}')

def find_jobs():
      html_text=requests.get('https://www.timesjobs.com/candidate/job-search.html?searchType=personalizedSearch&from=submit&searchTextSrc=as&searchTextText=%22Data+Analyst%22&txtKeywords=%22Data+Analyst%22&txtLocation=').text

      soup=BeautifulSoup(html_text,'lxml')
      jobs=soup.find_all('li',class_='clearfix job-bx wht-shd-bx')
      for index,job in enumerate(jobs):
            published_date=job.find('span',class_='sim-posted').span.text
            if '5 days' in published_date:
                  company_name=job.find('h3',class_='joblist-comp-name').text.replace(' ','')
                  skills=job.find('span',class_='srp-skills').text.replace(' ','')
                  job_description=job.header.h2.a['href']
                  if unfamiliar_skill not in skills:
                        with open(f'jobs/{index}.txt','w') as f:
                              f.write(f'Company name: {company_name.strip()} \n')
                              f.write(f'Required skills: {skills.strip()}\n')
                              f.write(f'Job description: {job_description.strip()}')
                        print(f'File saved: {index}')

if __name__ == '__main__':
      while True:
            find_jobs()
            time_wait=10
            print(f'Waiting {time_wait} minutes...')
            time.sleep(time_wait*60)



