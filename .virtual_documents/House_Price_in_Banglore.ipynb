


# import libraries
import pandas as pd
import numpy as np
import matplotlib.pyplot as plt
import seaborn as sns


df=pd.read_csv('data/bhp.csv')
df.shape


df.head()


df['price_per_sqft'].describe()


df['price_per_sqft'].min()


df['price_per_sqft'].max()





df['price_per_sqft'].median()


df['price_per_sqft'].mean()





sns.boxplot(df['price_per_sqft'])





plt.hist(df['price_per_sqft'])
plt.xlabel('price_per_sqft')
plt.ylabel('Count')
plt.yscale('log')
plt.show()


sns.histplot(df['price_per_sqft'],log_scale=True)





def detect_outliers(column):
    q1=df[column].quantile(0.25)
    q3=df[column].quantile(0.75)
    iqr=q3-q1
    lower_bound=q1-1.5*iqr
    upper_bound=q3+1.5*iqr
    return lower_bound,upper_bound

print(detect_outliers('price_per_sqft'))





q1=df['price_per_sqft'].quantile(0.25)
q3=df['price_per_sqft'].quantile(0.75)
iqr=q3-q1
lower_bound=q1-1.5*iqr
upper_bound=q3+1.5*iqr
df1=df[(df['price_per_sqft']<lower_bound)|(df['price_per_sqft']>upper_bound)]
df1.shape





df2=df[(df['price_per_sqft']>lower_bound)&(df['price_per_sqft']<upper_bound)]
df2.shape


# how many rows are outliers
df.shape[0]-df2.shape[0]


df2['price_per_sqft'].describe()


sns.boxplot(df2['price_per_sqft'])


sns.histplot(df2['price_per_sqft'])


sns.displot(df2['price_per_sqft'],kde=True)


sns.displot(df2['price_per_sqft'])


from scipy.stats import norm

sns.histplot(data=df2['price_per_sqft'], kde=False, stat='density', bins=30) 

xmin, xmax = plt.xlim()
x = np.linspace(xmin, xmax, 100)
p = norm.pdf(x, df2['price_per_sqft'].mean(), df2['price_per_sqft'].std())
plt.plot(x, p, 'k', linewidth=2)

plt.title('Standard Normal Distribution (Bell Curve)')
plt.show()





price_mean=df2['price_per_sqft'].mean()
price_std=df2['price_per_sqft'].std()

upper_limit=price_mean+3*price_std
lower_limit=price_mean-3*price_std
df2[(df2['price_per_sqft']<lower_limit)|(df2['price_per_sqft']>upper_limit)].head()


df2[(df2['price_per_sqft']<lower_limit)|(df2['price_per_sqft']>upper_limit)].shape[0]





df3=df2[(df2['price_per_sqft']>lower_limit)&(df2['price_per_sqft']<upper_limit)]
df3.shape


# how many rows are outliers
df.shape[0]-df3.shape[0]





sns.boxplot(df3['price_per_sqft'])


sns.histplot(df3['price_per_sqft'])





price_mean=df2['price_per_sqft'].mean()
price_std=df2['price_per_sqft'].std()

z_score=(df2['price_per_sqft']-price_mean)/price_std
df4=df2.copy()
df4['price_z_score']=z_score
df4.head()


df4[(df4['price_z_score']<-3)|(df4['price_z_score']>3)].shape





df5=df4[(df4['price_z_score']>-3)&(df4['price_z_score']<3)]
df5.shape[0]


df.shape[0]-df5.shape[0]


df5.head()


sns.boxplot(df5['price_per_sqft'])


sns.histplot(df5['price_per_sqft'])



