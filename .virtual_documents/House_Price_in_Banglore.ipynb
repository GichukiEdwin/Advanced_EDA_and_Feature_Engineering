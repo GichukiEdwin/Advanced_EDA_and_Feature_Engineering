


# import libraries
import pandas as pd
import numpy as np
import matplotlib.pyplot as plt
import seaborn as sns


df=pd.read_csv('data/bhp.csv')
df.shape


df.head()


df['price_per_sqft'].describe()


sns.boxplot(df['price_per_sqft'])


plt.hist(df['price_per_sqft'],bins=20,rwidth=0.8)
plt.xlabel('price_per_sqft')
plt.ylabel('Count')
plt.show()



