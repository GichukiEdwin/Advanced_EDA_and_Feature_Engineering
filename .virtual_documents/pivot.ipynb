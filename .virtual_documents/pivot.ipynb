import pandas as pd


df = pd.read_csv('data/weather.csv')
df


df.pivot(index='date', columns='city')


df.pivot(index='date', columns='city', values='humidity')


df_1 = pd.read_csv('data/weather2.csv')
df_1





df_1.pivot_table(index='city', columns='date')





df_1.shape


#### pivot table grouper
+ grouper fn aggregates data based on dates frequency


df_2 = pd.read_csv('data/weather3.csv')
df_2





df_2.info()


df_2['date'] = pd.to_datetime(df_2['date'])


df_2


type(df_2['date'][0])


df_2.pivot_table(index=pd.Grouper(freq='ME', key='date'), columns='city')
