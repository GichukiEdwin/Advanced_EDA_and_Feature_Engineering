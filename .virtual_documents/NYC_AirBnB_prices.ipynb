


import pandas as pd
import numpy as np
import matplotlib.pyplot as plt
import seaborn as sns


df=pd.read_csv('data/AB_NYC_2019.csv')
df.head()


df.shape


sns.boxplot(df['price'])


sns.displot(df['price'],log_scale=True)





q1=df['price'].quantile(0.25)
q3=df['price'].quantile(0.75)
iqr=q3-q1
min_threshold=q1-1.5*iqr
max_threshold=q3+1.5*iqr

df1=df[(df['price']<min_threshold)|(df['price']>max_threshold)]
df1.shape[0]


df2=df[(df['price']>min_threshold)&(df['price']<max_threshold)]
df2.shape[0]


df.shape[0]-df2.shape[0]


sns.boxplot(df2['price'])


sns.displot(df2['price'],log_scale=True)





mean_price=df['price'].mean()
std_price=df['price'].std()

upper_limit=mean_price+3*std_price
lower_limit=mean_price-3*std_price

df3=df[(df['price']<lower_limit)|(df['price']>upper_limit)]
df3.shape[0]


df4=df[(df['price']>lower_limit)&(df['price']<upper_limit)]
df4['price'].describe()


sns.boxplot(df4['price'])


sns.displot(df4['price'],log_scale=True)





z_score=(df['price']-df['price'].mean())/df['price'].std()
df5=df.copy()
df5['z_score']=z_score
df5['z_score'].head()


df5[(df5['z_score']<-3)|(df5['z_score']>3)].shape[0]


df6=df5[(df5['z_score']>-3)&(df5['z_score']<3)]
df6.shape[0]


df.shape[0]-df6.shape[0]


sns.boxplot(df6['price'])
